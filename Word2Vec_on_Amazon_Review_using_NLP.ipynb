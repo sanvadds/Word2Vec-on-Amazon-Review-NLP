{
  "nbformat": 4,
  "nbformat_minor": 0,
  "metadata": {
    "colab": {
      "name": "Word2Vec on Amazon Review using NLP.ipynb",
      "provenance": [],
      "collapsed_sections": [],
      "authorship_tag": "ABX9TyOnJjVn1vjtcaO/v+ZCBDpf",
      "include_colab_link": true
    },
    "kernelspec": {
      "name": "python3",
      "display_name": "Python 3"
    },
    "language_info": {
      "name": "python"
    }
  },
  "cells": [
    {
      "cell_type": "markdown",
      "metadata": {
        "id": "view-in-github",
        "colab_type": "text"
      },
      "source": [
        "<a href=\"https://colab.research.google.com/github/sanvadds/Word2Vec-on-Amazon-Review-NLP/blob/main/Word2Vec_on_Amazon_Review_using_NLP.ipynb\" target=\"_parent\"><img src=\"https://colab.research.google.com/assets/colab-badge.svg\" alt=\"Open In Colab\"/></a>"
      ]
    },
    {
      "cell_type": "code",
      "execution_count": 1,
      "metadata": {
        "id": "sjM6TPLsIorf"
      },
      "outputs": [],
      "source": [
        "import gensim\n",
        "import pandas as pd "
      ]
    },
    {
      "cell_type": "markdown",
      "source": [
        "# **Reading & Explorring**\n",
        "\n",
        "**The data set we are using here is a subset of Amazon Review for Cell phons & Accessories Categories. The data is in JSON file and can be read using pandas**\n",
        "\n",
        "Link to the Dataset: http://snap.stanford.edu/data/amazon/productGraph/categoryFiles/reviews_Cell_Phones_and_Accessories_5.json.gz"
      ],
      "metadata": {
        "id": "Dt7UyCtNI8hV"
      }
    },
    {
      "cell_type": "code",
      "source": [
        "data = pd.read_json(\"/content/sample_data/Cell_Phones_and_Accessories_5.json\",lines=True)"
      ],
      "metadata": {
        "id": "fSakD2dbI6f6"
      },
      "execution_count": 2,
      "outputs": []
    },
    {
      "cell_type": "markdown",
      "source": [
        "**How many rows & columns having file**"
      ],
      "metadata": {
        "id": "uFRPR-1nL2rE"
      }
    },
    {
      "cell_type": "code",
      "source": [
        "data.shape"
      ],
      "metadata": {
        "colab": {
          "base_uri": "https://localhost:8080/"
        },
        "id": "lFM0tuTcLe5a",
        "outputId": "b24879b6-fb5a-4fcd-a9c2-43474f7a16e4"
      },
      "execution_count": 3,
      "outputs": [
        {
          "output_type": "execute_result",
          "data": {
            "text/plain": [
              "(194439, 9)"
            ]
          },
          "metadata": {},
          "execution_count": 3
        }
      ]
    },
    {
      "cell_type": "markdown",
      "source": [
        "**First Review**"
      ],
      "metadata": {
        "id": "XpF4EKkML_6y"
      }
    },
    {
      "cell_type": "code",
      "source": [
        "data.reviewText[0]"
      ],
      "metadata": {
        "colab": {
          "base_uri": "https://localhost:8080/",
          "height": 53
        },
        "id": "mWb1hpfmLo33",
        "outputId": "4435a925-a6fa-4578-ef7c-6cf2f0e8270b"
      },
      "execution_count": 4,
      "outputs": [
        {
          "output_type": "execute_result",
          "data": {
            "text/plain": [
              "\"They look good and stick good! I just don't like the rounded shape because I was always bumping it and Siri kept popping up and it was irritating. I just won't buy a product like this again\""
            ],
            "application/vnd.google.colaboratory.intrinsic+json": {
              "type": "string"
            }
          },
          "metadata": {},
          "execution_count": 4
        }
      ]
    },
    {
      "cell_type": "markdown",
      "source": [
        "**Need to convert upper case charater to lower case, Need to remove trailing spaces, Need remove panctuation marks.**\n",
        "\n",
        "**This will be done using gensim.utils.simple_preprocessin** "
      ],
      "metadata": {
        "id": "PeRxR6JnMZrb"
      }
    },
    {
      "cell_type": "code",
      "source": [
        "review_text = data.reviewText.apply(gensim.utils.simple_preprocess)\n",
        "review_text"
      ],
      "metadata": {
        "colab": {
          "base_uri": "https://localhost:8080/"
        },
        "id": "Qa1wWc_tLo1B",
        "outputId": "eab32bba-686f-452b-f23f-3bfbdc421ee0"
      },
      "execution_count": 6,
      "outputs": [
        {
          "output_type": "execute_result",
          "data": {
            "text/plain": [
              "0         [they, look, good, and, stick, good, just, don...\n",
              "1         [these, stickers, work, like, the, review, say...\n",
              "2         [these, are, awesome, and, make, my, phone, lo...\n",
              "3         [item, arrived, in, great, time, and, was, in,...\n",
              "4         [awesome, stays, on, and, looks, great, can, b...\n",
              "                                ...                        \n",
              "194434    [works, great, just, like, my, original, one, ...\n",
              "194435    [great, product, great, packaging, high, quali...\n",
              "194436    [this, is, great, cable, just, as, good, as, t...\n",
              "194437    [really, like, it, becasue, it, works, well, w...\n",
              "194438    [product, as, described, have, wasted, lot, of...\n",
              "Name: reviewText, Length: 194439, dtype: object"
            ]
          },
          "metadata": {},
          "execution_count": 6
        }
      ]
    },
    {
      "cell_type": "markdown",
      "source": [
        "# **Training the Word2Vec Model**\n",
        "**Train the model for reviews. Use a window of size 10 i.e. 10 words before the present word and 10 words ahead. A sentence with at least 2 words should only be considered, configure this using min_count parameter.**\n",
        "\n",
        "**Workers define how many CPU threads to be used.**\n",
        "\n",
        "**Initialize the model**"
      ],
      "metadata": {
        "id": "CNFnPzK7Ouzy"
      }
    },
    {
      "cell_type": "code",
      "source": [
        "model = gensim.models.Word2Vec(\n",
        "    window = 10,\n",
        "    min_count = 2,\n",
        "    workers = 4\n",
        ")"
      ],
      "metadata": {
        "id": "5sZO0ayALox7"
      },
      "execution_count": 8,
      "outputs": []
    },
    {
      "cell_type": "markdown",
      "source": [
        "**Build Vocabulary**"
      ],
      "metadata": {
        "id": "Crgv4SbFPFno"
      }
    },
    {
      "cell_type": "code",
      "source": [
        "model.build_vocab(review_text,progress_per=1000 )"
      ],
      "metadata": {
        "id": "0gpIDDjhLous"
      },
      "execution_count": 9,
      "outputs": []
    },
    {
      "cell_type": "code",
      "source": [
        "model.epochs"
      ],
      "metadata": {
        "colab": {
          "base_uri": "https://localhost:8080/"
        },
        "id": "GHnIV7chLor1",
        "outputId": "41ec3447-f837-46f7-82b7-d8d3c2cff3bf"
      },
      "execution_count": 11,
      "outputs": [
        {
          "output_type": "execute_result",
          "data": {
            "text/plain": [
              "5"
            ]
          },
          "metadata": {},
          "execution_count": 11
        }
      ]
    },
    {
      "cell_type": "code",
      "source": [
        "model.corpus_count"
      ],
      "metadata": {
        "colab": {
          "base_uri": "https://localhost:8080/"
        },
        "id": "Fd0wyHxwLoos",
        "outputId": "bdb98dd4-5c19-45c1-d8ad-ae4480a7e606"
      },
      "execution_count": 12,
      "outputs": [
        {
          "output_type": "execute_result",
          "data": {
            "text/plain": [
              "194439"
            ]
          },
          "metadata": {},
          "execution_count": 12
        }
      ]
    },
    {
      "cell_type": "markdown",
      "source": [
        "**Train the model**"
      ],
      "metadata": {
        "id": "-coFQHQYPY7a"
      }
    },
    {
      "cell_type": "code",
      "source": [
        "model.train(review_text,total_examples=model.corpus_count, epochs=model.epochs)"
      ],
      "metadata": {
        "colab": {
          "base_uri": "https://localhost:8080/"
        },
        "id": "Ral0bmv2LomF",
        "outputId": "0d008fce-47a2-4525-fa9d-a58e609c0974"
      },
      "execution_count": 13,
      "outputs": [
        {
          "output_type": "execute_result",
          "data": {
            "text/plain": [
              "(61505832, 83868975)"
            ]
          },
          "metadata": {},
          "execution_count": 13
        }
      ]
    },
    {
      "cell_type": "markdown",
      "source": [
        "**Finding similar words of bad**"
      ],
      "metadata": {
        "id": "R43BvhZTQje4"
      }
    },
    {
      "cell_type": "code",
      "source": [
        "model.wv.most_similar(\"bad\")"
      ],
      "metadata": {
        "colab": {
          "base_uri": "https://localhost:8080/"
        },
        "id": "mR2SOgrXLojA",
        "outputId": "b4e861f5-586d-4079-d6b3-4768ae766e06"
      },
      "execution_count": 14,
      "outputs": [
        {
          "output_type": "execute_result",
          "data": {
            "text/plain": [
              "[('terrible', 0.6843300461769104),\n",
              " ('shabby', 0.6587380170822144),\n",
              " ('horrible', 0.5882956981658936),\n",
              " ('good', 0.5735816359519958),\n",
              " ('awful', 0.5594509840011597),\n",
              " ('funny', 0.5436052083969116),\n",
              " ('crappy', 0.5303862690925598),\n",
              " ('cheap', 0.530036985874176),\n",
              " ('poor', 0.5223718285560608),\n",
              " ('mad', 0.5153685212135315)]"
            ]
          },
          "metadata": {},
          "execution_count": 14
        }
      ]
    },
    {
      "cell_type": "markdown",
      "source": [
        "**Checking similarity in words**"
      ],
      "metadata": {
        "id": "7JQMPuZtQq4v"
      }
    },
    {
      "cell_type": "code",
      "source": [
        "model.wv.similarity(w1='good' , w2='great')"
      ],
      "metadata": {
        "colab": {
          "base_uri": "https://localhost:8080/"
        },
        "id": "CnWfMRZbLogL",
        "outputId": "51fac0b2-0c7e-4a24-da5f-08ac7bee6677"
      },
      "execution_count": 15,
      "outputs": [
        {
          "output_type": "execute_result",
          "data": {
            "text/plain": [
              "0.7853304"
            ]
          },
          "metadata": {},
          "execution_count": 15
        }
      ]
    },
    {
      "cell_type": "code",
      "source": [
        "model.wv.similarity(w1 = 'cheap', w2= 'inexpensive')"
      ],
      "metadata": {
        "colab": {
          "base_uri": "https://localhost:8080/"
        },
        "id": "2rqYxS6-Lodm",
        "outputId": "113e9016-6517-4c02-a21f-bccc7e577f97"
      },
      "execution_count": 16,
      "outputs": [
        {
          "output_type": "execute_result",
          "data": {
            "text/plain": [
              "0.5295695"
            ]
          },
          "metadata": {},
          "execution_count": 16
        }
      ]
    },
    {
      "cell_type": "code",
      "source": [
        "model.wv.similarity(w1='good' , w2='iphone')"
      ],
      "metadata": {
        "colab": {
          "base_uri": "https://localhost:8080/"
        },
        "id": "HGweb7F-LoaP",
        "outputId": "42bc4604-552a-427f-b66b-7e976e519fd8"
      },
      "execution_count": 17,
      "outputs": [
        {
          "output_type": "execute_result",
          "data": {
            "text/plain": [
              "-0.0053710695"
            ]
          },
          "metadata": {},
          "execution_count": 17
        }
      ]
    },
    {
      "cell_type": "code",
      "source": [
        ""
      ],
      "metadata": {
        "id": "K5TdnxF2Lm5D"
      },
      "execution_count": null,
      "outputs": []
    }
  ]
}