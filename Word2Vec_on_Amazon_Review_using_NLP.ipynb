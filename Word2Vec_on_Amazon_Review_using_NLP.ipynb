{
  "nbformat": 4,
  "nbformat_minor": 0,
  "metadata": {
    "colab": {
      "name": "Word2Vec on Amazon Review using NLP.ipynb",
      "provenance": [],
      "collapsed_sections": [],
      "authorship_tag": "ABX9TyPZm18FCaZmHVEzpjWZUTaA",
      "include_colab_link": true
    },
    "kernelspec": {
      "name": "python3",
      "display_name": "Python 3"
    },
    "language_info": {
      "name": "python"
    }
  },
  "cells": [
    {
      "cell_type": "markdown",
      "metadata": {
        "id": "view-in-github",
        "colab_type": "text"
      },
      "source": [
        "<a href=\"https://colab.research.google.com/github/sanvadds/Word2Vec-on-Amazon-Review-NLP/blob/main/Word2Vec_on_Amazon_Review_using_NLP.ipynb\" target=\"_parent\"><img src=\"https://colab.research.google.com/assets/colab-badge.svg\" alt=\"Open In Colab\"/></a>"
      ]
    },
    {
      "cell_type": "code",
      "execution_count": 1,
      "metadata": {
        "id": "sjM6TPLsIorf"
      },
      "outputs": [],
      "source": [
        "import gensim\n",
        "import pandas as pd "
      ]
    },
    {
      "cell_type": "markdown",
      "source": [
        "# **Reading & Explorring**\n",
        "\n",
        "**The data set we are using here is a subset of Amazon Review for Cell phons & Accessories Categories. The data is in JSON file and can be read using pandas**\n",
        "\n",
        "Link to the Dataset: http://snap.stanford.edu/data/amazon/productGraph/categoryFiles/reviews_Cell_Phones_and_Accessories_5.json.gz"
      ],
      "metadata": {
        "id": "Dt7UyCtNI8hV"
      }
    },
    {
      "cell_type": "code",
      "source": [
        ""
      ],
      "metadata": {
        "id": "fSakD2dbI6f6"
      },
      "execution_count": null,
      "outputs": []
    }
  ]
}